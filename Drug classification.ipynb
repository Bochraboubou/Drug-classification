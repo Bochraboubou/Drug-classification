{
 "cells": [
  {
   "cell_type": "markdown",
   "id": "32c2c5df",
   "metadata": {},
   "source": [
    "# Drug Classification 💊💊💊💊💊🩺 "
   ]
  },
  {
   "cell_type": "markdown",
   "id": "3a8232a7",
   "metadata": {},
   "source": [
    "### Problèmes de jeu de données 🤔\n",
    "👉 Ce jeu de données contient des informations sur la classification des médicaments en fonction des informations générales du patient et de son diagnostic. Un modèle d'apprentissage automatique est nécessaire pour prédire le type de médicament qui conviendrait le mieux au patient."
   ]
  },
  {
   "cell_type": "markdown",
   "id": "8f6ca5da",
   "metadata": {},
   "source": [
    "## 1- Prétraitement et visualisation des données"
   ]
  },
  {
   "cell_type": "markdown",
   "id": "f41bcfe0",
   "metadata": {},
   "source": [
    "### 1-1 Prétraitement des données"
   ]
  },
  {
   "cell_type": "markdown",
   "id": "75a18ba9",
   "metadata": {},
   "source": [
    "#### importation des bibliothèques 📚 :"
   ]
  },
  {
   "cell_type": "code",
   "execution_count": 1,
   "id": "0b75eb20",
   "metadata": {},
   "outputs": [],
   "source": [
    "import numpy as np\n",
    "import pandas as pd\n",
    "import matplotlib.pyplot as plt\n",
    "\n",
    "\n",
    "import seaborn as sns\n",
    "from sklearn.preprocessing import LabelEncoder\n",
    "from sklearn.model_selection import train_test_split\n",
    "from sklearn.tree import DecisionTreeClassifier\n",
    "from sklearn.tree import plot_tree\n",
    "from sklearn.ensemble import RandomForestClassifier\n",
    "from sklearn.model_selection import GridSearchCV\n",
    "from sklearn.model_selection import cross_val_score\n",
    "from sklearn.neighbors import KNeighborsClassifier\n",
    "from sklearn.naive_bayes import GaussianNB\n",
    "from sklearn.naive_bayes import CategoricalNB\n",
    "from sklearn.metrics import confusion_matrix, f1_score, classification_report,accuracy_score\n",
    "\n",
    "\n",
    "\n"
   ]
  },
  {
   "cell_type": "markdown",
   "id": "d763b9ad",
   "metadata": {},
   "source": [
    "#### Lecture de l'ensemble de données 👓 :"
   ]
  },
  {
   "cell_type": "code",
   "execution_count": 2,
   "id": "971961e1",
   "metadata": {},
   "outputs": [],
   "source": [
    "df= pd.read_csv(\"drug200.csv\")"
   ]
  },
  {
   "cell_type": "markdown",
   "id": "c7a35bc9",
   "metadata": {},
   "source": [
    "#### Exploration des données  🔍:"
   ]
  },
  {
   "cell_type": "code",
   "execution_count": 3,
   "id": "74b05b5d",
   "metadata": {},
   "outputs": [
    {
     "data": {
      "text/html": [
       "<div>\n",
       "<style scoped>\n",
       "    .dataframe tbody tr th:only-of-type {\n",
       "        vertical-align: middle;\n",
       "    }\n",
       "\n",
       "    .dataframe tbody tr th {\n",
       "        vertical-align: top;\n",
       "    }\n",
       "\n",
       "    .dataframe thead th {\n",
       "        text-align: right;\n",
       "    }\n",
       "</style>\n",
       "<table border=\"1\" class=\"dataframe\">\n",
       "  <thead>\n",
       "    <tr style=\"text-align: right;\">\n",
       "      <th></th>\n",
       "      <th>Age</th>\n",
       "      <th>Sex</th>\n",
       "      <th>BP</th>\n",
       "      <th>Cholesterol</th>\n",
       "      <th>Na_to_K</th>\n",
       "      <th>Drug</th>\n",
       "    </tr>\n",
       "  </thead>\n",
       "  <tbody>\n",
       "    <tr>\n",
       "      <th>0</th>\n",
       "      <td>23</td>\n",
       "      <td>F</td>\n",
       "      <td>HIGH</td>\n",
       "      <td>HIGH</td>\n",
       "      <td>25.355</td>\n",
       "      <td>DrugY</td>\n",
       "    </tr>\n",
       "    <tr>\n",
       "      <th>1</th>\n",
       "      <td>47</td>\n",
       "      <td>M</td>\n",
       "      <td>LOW</td>\n",
       "      <td>HIGH</td>\n",
       "      <td>13.093</td>\n",
       "      <td>drugC</td>\n",
       "    </tr>\n",
       "    <tr>\n",
       "      <th>2</th>\n",
       "      <td>47</td>\n",
       "      <td>M</td>\n",
       "      <td>LOW</td>\n",
       "      <td>HIGH</td>\n",
       "      <td>10.114</td>\n",
       "      <td>drugC</td>\n",
       "    </tr>\n",
       "    <tr>\n",
       "      <th>3</th>\n",
       "      <td>28</td>\n",
       "      <td>F</td>\n",
       "      <td>NORMAL</td>\n",
       "      <td>HIGH</td>\n",
       "      <td>7.798</td>\n",
       "      <td>drugX</td>\n",
       "    </tr>\n",
       "    <tr>\n",
       "      <th>4</th>\n",
       "      <td>61</td>\n",
       "      <td>F</td>\n",
       "      <td>LOW</td>\n",
       "      <td>HIGH</td>\n",
       "      <td>18.043</td>\n",
       "      <td>DrugY</td>\n",
       "    </tr>\n",
       "  </tbody>\n",
       "</table>\n",
       "</div>"
      ],
      "text/plain": [
       "   Age Sex      BP Cholesterol  Na_to_K   Drug\n",
       "0   23   F    HIGH        HIGH   25.355  DrugY\n",
       "1   47   M     LOW        HIGH   13.093  drugC\n",
       "2   47   M     LOW        HIGH   10.114  drugC\n",
       "3   28   F  NORMAL        HIGH    7.798  drugX\n",
       "4   61   F     LOW        HIGH   18.043  DrugY"
      ]
     },
     "execution_count": 3,
     "metadata": {},
     "output_type": "execute_result"
    }
   ],
   "source": [
    "df.head()"
   ]
  },
  {
   "cell_type": "markdown",
   "id": "157883ac",
   "metadata": {},
   "source": [
    "#### Attribute Description 🧾:"
   ]
  },
  {
   "cell_type": "raw",
   "id": "2f40dcc7",
   "metadata": {},
   "source": [
    "1-Age: Cette caractéristique stocke l'âge du patient.\n",
    "\n",
    "2-Sex: Cette caractéristique stocke le genre du patient.\n",
    "\n",
    "3-BP: Cette caractéristique contient la pression artérielle du patient.\n",
    "\n",
    "4-Cholesterol: Cette caractéristique stocke le taux de cholestérol du patient.\n",
    "\n",
    "5-Na_to_K:  Cette caractéristique contient le rapport de sodium (Na) au potassium (K) dans le sang du patient.\n",
    "\n",
    "6-Drug: Cette caractéristique contient le type de médicament administré aux patients."
   ]
  },
  {
   "cell_type": "code",
   "execution_count": 4,
   "id": "80195d81",
   "metadata": {},
   "outputs": [
    {
     "data": {
      "text/plain": [
       "(200, 6)"
      ]
     },
     "execution_count": 4,
     "metadata": {},
     "output_type": "execute_result"
    }
   ],
   "source": [
    "df.shape"
   ]
  },
  {
   "cell_type": "code",
   "execution_count": 5,
   "id": "95892296",
   "metadata": {},
   "outputs": [
    {
     "name": "stdout",
     "output_type": "stream",
     "text": [
      "<class 'pandas.core.frame.DataFrame'>\n",
      "RangeIndex: 200 entries, 0 to 199\n",
      "Data columns (total 6 columns):\n",
      " #   Column       Non-Null Count  Dtype  \n",
      "---  ------       --------------  -----  \n",
      " 0   Age          200 non-null    int64  \n",
      " 1   Sex          200 non-null    object \n",
      " 2   BP           200 non-null    object \n",
      " 3   Cholesterol  200 non-null    object \n",
      " 4   Na_to_K      200 non-null    float64\n",
      " 5   Drug         200 non-null    object \n",
      "dtypes: float64(1), int64(1), object(4)\n",
      "memory usage: 9.5+ KB\n"
     ]
    }
   ],
   "source": [
    "df.info()\n"
   ]
  },
  {
   "cell_type": "markdown",
   "id": "272b3334",
   "metadata": {},
   "source": [
    "👉 Le jeu de données comporte 1 colonne de données de type flottant (float), 1 colonne de données de type entier (integer) et 4 colonnes de données de type objet (object)."
   ]
  },
  {
   "cell_type": "code",
   "execution_count": 6,
   "id": "dc787d39",
   "metadata": {},
   "outputs": [
    {
     "data": {
      "text/plain": [
       "Age              int64\n",
       "Sex             object\n",
       "BP              object\n",
       "Cholesterol     object\n",
       "Na_to_K        float64\n",
       "Drug            object\n",
       "dtype: object"
      ]
     },
     "execution_count": 6,
     "metadata": {},
     "output_type": "execute_result"
    }
   ],
   "source": [
    "#donne lestypes de données de chaque colonne dans le Dtaframe\n",
    "df.dtypes "
   ]
  },
  {
   "cell_type": "code",
   "execution_count": 7,
   "id": "1211cbb2",
   "metadata": {},
   "outputs": [
    {
     "data": {
      "text/plain": [
       "Age            0\n",
       "Sex            0\n",
       "BP             0\n",
       "Cholesterol    0\n",
       "Na_to_K        0\n",
       "Drug           0\n",
       "dtype: int64"
      ]
     },
     "execution_count": 7,
     "metadata": {},
     "output_type": "execute_result"
    }
   ],
   "source": [
    "# Vérification des valeurs manquantes :\n",
    "\n",
    "df.isnull().sum()"
   ]
  },
  {
   "cell_type": "markdown",
   "id": "008f0ded",
   "metadata": {},
   "source": [
    "👉 Le jeu de données ne contient aucune valeur nulle (null)."
   ]
  },
  {
   "cell_type": "code",
   "execution_count": 8,
   "id": "6be67f24",
   "metadata": {},
   "outputs": [
    {
     "data": {
      "text/html": [
       "<div>\n",
       "<style scoped>\n",
       "    .dataframe tbody tr th:only-of-type {\n",
       "        vertical-align: middle;\n",
       "    }\n",
       "\n",
       "    .dataframe tbody tr th {\n",
       "        vertical-align: top;\n",
       "    }\n",
       "\n",
       "    .dataframe thead th {\n",
       "        text-align: right;\n",
       "    }\n",
       "</style>\n",
       "<table border=\"1\" class=\"dataframe\">\n",
       "  <thead>\n",
       "    <tr style=\"text-align: right;\">\n",
       "      <th></th>\n",
       "      <th>Age</th>\n",
       "      <th>Sex</th>\n",
       "      <th>BP</th>\n",
       "      <th>Cholesterol</th>\n",
       "      <th>Na_to_K</th>\n",
       "      <th>Drug</th>\n",
       "    </tr>\n",
       "  </thead>\n",
       "  <tbody>\n",
       "  </tbody>\n",
       "</table>\n",
       "</div>"
      ],
      "text/plain": [
       "Empty DataFrame\n",
       "Columns: [Age, Sex, BP, Cholesterol, Na_to_K, Drug]\n",
       "Index: []"
      ]
     },
     "execution_count": 8,
     "metadata": {},
     "output_type": "execute_result"
    }
   ],
   "source": [
    "# Vérification des doublons :\n",
    "\n",
    "duplicate = df[df.duplicated()]\n",
    "duplicate"
   ]
  },
  {
   "cell_type": "raw",
   "id": "172f54f2",
   "metadata": {},
   "source": [
    "👉 Aucun enregistrement en double n'est présent dans le jeu de données."
   ]
  },
  {
   "cell_type": "code",
   "execution_count": 12,
   "id": "765bf469",
   "metadata": {},
   "outputs": [
    {
     "data": {
      "text/html": [
       "<div>\n",
       "<style scoped>\n",
       "    .dataframe tbody tr th:only-of-type {\n",
       "        vertical-align: middle;\n",
       "    }\n",
       "\n",
       "    .dataframe tbody tr th {\n",
       "        vertical-align: top;\n",
       "    }\n",
       "\n",
       "    .dataframe thead th {\n",
       "        text-align: right;\n",
       "    }\n",
       "</style>\n",
       "<table border=\"1\" class=\"dataframe\">\n",
       "  <thead>\n",
       "    <tr style=\"text-align: right;\">\n",
       "      <th></th>\n",
       "      <th>Age</th>\n",
       "      <th>Na_to_K</th>\n",
       "    </tr>\n",
       "  </thead>\n",
       "  <tbody>\n",
       "    <tr>\n",
       "      <th>count</th>\n",
       "      <td>200.000000</td>\n",
       "      <td>200.000000</td>\n",
       "    </tr>\n",
       "    <tr>\n",
       "      <th>mean</th>\n",
       "      <td>44.315000</td>\n",
       "      <td>16.084485</td>\n",
       "    </tr>\n",
       "    <tr>\n",
       "      <th>std</th>\n",
       "      <td>16.544315</td>\n",
       "      <td>7.223956</td>\n",
       "    </tr>\n",
       "    <tr>\n",
       "      <th>min</th>\n",
       "      <td>15.000000</td>\n",
       "      <td>6.269000</td>\n",
       "    </tr>\n",
       "    <tr>\n",
       "      <th>25%</th>\n",
       "      <td>31.000000</td>\n",
       "      <td>10.445500</td>\n",
       "    </tr>\n",
       "    <tr>\n",
       "      <th>50%</th>\n",
       "      <td>45.000000</td>\n",
       "      <td>13.936500</td>\n",
       "    </tr>\n",
       "    <tr>\n",
       "      <th>75%</th>\n",
       "      <td>58.000000</td>\n",
       "      <td>19.380000</td>\n",
       "    </tr>\n",
       "    <tr>\n",
       "      <th>max</th>\n",
       "      <td>74.000000</td>\n",
       "      <td>38.247000</td>\n",
       "    </tr>\n",
       "  </tbody>\n",
       "</table>\n",
       "</div>"
      ],
      "text/plain": [
       "              Age     Na_to_K\n",
       "count  200.000000  200.000000\n",
       "mean    44.315000   16.084485\n",
       "std     16.544315    7.223956\n",
       "min     15.000000    6.269000\n",
       "25%     31.000000   10.445500\n",
       "50%     45.000000   13.936500\n",
       "75%     58.000000   19.380000\n",
       "max     74.000000   38.247000"
      ]
     },
     "execution_count": 12,
     "metadata": {},
     "output_type": "execute_result"
    }
   ],
   "source": [
    "# affiche les statistiques descriptives des variables numériques\n",
    "df.describe()"
   ]
  },
  {
   "cell_type": "code",
   "execution_count": 13,
   "id": "84fd8bdc",
   "metadata": {},
   "outputs": [
    {
     "name": "stdout",
     "output_type": "stream",
     "text": [
      "L'âge minimum est de 15 ans\n",
      "L'âge maximum est de 74 ans\n"
     ]
    }
   ],
   "source": [
    "print(\"L'âge minimum est de {} ans\".format(df['Age'].min()))\n",
    "print(\"L'âge maximum est de {} ans\".format(df['Age'].max()))"
   ]
  },
  {
   "cell_type": "code",
   "execution_count": 14,
   "id": "116e3735",
   "metadata": {},
   "outputs": [
    {
     "name": "stdout",
     "output_type": "stream",
     "text": [
      "Sex: ['F' 'M']\n",
      "BP: ['HIGH' 'LOW' 'NORMAL']\n",
      "Cholesterol: ['HIGH' 'NORMAL']\n",
      "Drug: ['DrugY' 'drugC' 'drugX' 'drugA' 'drugB']\n"
     ]
    }
   ],
   "source": [
    "#Trouver les valeurs uniques des attributs catégoriels\n",
    "print(\"Sex:\", df['Sex'].unique())\n",
    "print(\"BP:\", df['BP'].unique())\n",
    "print(\"Cholesterol:\", df['Cholesterol'].unique())\n",
    "print(\"Drug:\", df['Drug'].unique())"
   ]
  },
  {
   "cell_type": "markdown",
   "id": "7eae82d8",
   "metadata": {},
   "source": [
    "### 1-2 visualisation des données 📊"
   ]
  },
  {
   "cell_type": "markdown",
   "id": "ffcfb43e",
   "metadata": {},
   "source": [
    "#### Répartition des types de Drug 💊"
   ]
  },
  {
   "cell_type": "code",
   "execution_count": 15,
   "id": "9c6fe48c",
   "metadata": {},
   "outputs": [
    {
     "data": {
      "text/plain": [
       "Text(0.5, 0, 'Drug')"
      ]
     },
     "execution_count": 15,
     "metadata": {},
     "output_type": "execute_result"
    },
    {
     "data": {
      "image/png": "[encoded data removed]",
      "text/plain": [
       "<Figure size 576x216 with 1 Axes>"
      ]
     },
     "metadata": {
      "needs_background": "light"
     },
     "output_type": "display_data"
    }
   ],
   "source": [
    "# Répartition des médicaments :\n",
    "\n",
    "plt.figure(figsize = (8,3))\n",
    "sns.countplot(x='Drug', data=df)\n",
    "plt.xlabel('Drug')\n"
   ]
  },
  {
   "cell_type": "markdown",
   "id": "3234833f",
   "metadata": {},
   "source": [
    "👉 Observation :\n",
    "\n",
    "Le médicament Y est administré à la plupart des patients, suivi du médicament X.\n",
    "Le médicament A, le médicament B et le médicament C sont administrés à un nombre moins élevé de patients."
   ]
  },
  {
   "cell_type": "markdown",
   "id": "e67a20c1",
   "metadata": {},
   "source": [
    "#### Répartition par genre 👫"
   ]
  },
  {
   "cell_type": "code",
   "execution_count": 16,
   "id": "944e5273",
   "metadata": {},
   "outputs": [
    {
     "data": {
      "image/png": "[encoded data removed]",
      "text/plain": [
       "<Figure size 360x216 with 1 Axes>"
      ]
     },
     "metadata": {
      "needs_background": "light"
     },
     "output_type": "display_data"
    }
   ],
   "source": [
    "plt.figure(figsize = (5,3))\n",
    "sns.set_theme(style=\"darkgrid\")\n",
    "sns.countplot(x=\"Sex\", data=df, palette=\"rocket\")\n",
    "\n",
    "\n",
    "plt.xlabel('Gender (F=Female, M=Male)')\n",
    "plt.title(\"Répartition par genre\", fontsize=12, fontweight='bold')\n",
    "plt.ylabel('Total')\n",
    "plt.show()"
   ]
  },
  {
   "cell_type": "markdown",
   "id": "d9025597",
   "metadata": {},
   "source": [
    "#### Distribution de la pression artérielle (BP) 🩸"
   ]
  },
  {
   "cell_type": "code",
   "execution_count": 17,
   "id": "a1e30c4a",
   "metadata": {},
   "outputs": [
    {
     "name": "stderr",
     "output_type": "stream",
     "text": [
      "C:\\Users\\bochr\\anaconda3\\lib\\site-packages\\IPython\\core\\pylabtools.py:151: UserWarning: Glyph 129656 (\\N{DROP OF BLOOD}) missing from current font.\n",
      "  fig.canvas.print_figure(bytes_io, **kw)\n"
     ]
    },
    {
     "data": {
      "image/png": "[encoded data removed]",
      "text/plain": [
       "<Figure size 360x216 with 1 Axes>"
      ]
     },
     "metadata": {},
     "output_type": "display_data"
    }
   ],
   "source": [
    "plt.figure(figsize = (5,3))\n",
    "sns.set_theme(style=\"darkgrid\")\n",
    "sns.countplot(y=\"BP\", data=df, palette=\"crest\")\n",
    "plt.ylabel('Blood Pressure')\n",
    "plt.xlabel('Total')\n",
    "plt.title(\"Distribution de la pression artérielle (BP) 🩸\", fontsize=12, fontweight='bold')\n",
    "plt.show()"
   ]
  },
  {
   "cell_type": "markdown",
   "id": "0cee7add",
   "metadata": {},
   "source": [
    "####  Distribution de la Cholesterol 🥛"
   ]
  },
  {
   "cell_type": "code",
   "execution_count": 18,
   "id": "ac7e9b63",
   "metadata": {},
   "outputs": [
    {
     "name": "stderr",
     "output_type": "stream",
     "text": [
      "C:\\Users\\bochr\\anaconda3\\lib\\site-packages\\IPython\\core\\pylabtools.py:151: UserWarning: Glyph 129371 (\\N{GLASS OF MILK}) missing from current font.\n",
      "  fig.canvas.print_figure(bytes_io, **kw)\n"
     ]
    },
    {
     "data": {
      "image/png": "[encoded data removed]",
      "text/plain": [
       "<Figure size 360x216 with 1 Axes>"
      ]
     },
     "metadata": {},
     "output_type": "display_data"
    }
   ],
   "source": [
    "plt.figure(figsize = (5,3))\n",
    "sns.set_theme(style=\"darkgrid\")\n",
    "sns.countplot(x=\"Cholesterol\", data=df, palette=\"magma\")\n",
    "plt.xlabel('Blood Pressure')\n",
    "plt.ylabel('Total')\n",
    "plt.title(\"Distribution de la Cholesterol 🥛\", fontsize=12, fontweight='bold')\n",
    "plt.show()"
   ]
  },
  {
   "cell_type": "markdown",
   "id": "ee7c6a31",
   "metadata": {},
   "source": [
    "#### Répartition par genre en fonction du type de Drug 👫💊"
   ]
  },
  {
   "cell_type": "code",
   "execution_count": 19,
   "id": "daf259e2",
   "metadata": {},
   "outputs": [
    {
     "data": {
      "image/png": "[encoded data removed]",
      "text/plain": [
       "<Figure size 504x360 with 1 Axes>"
      ]
     },
     "metadata": {},
     "output_type": "display_data"
    }
   ],
   "source": [
    "#Analyse des médicaments en fonction du sexe :\n",
    "\n",
    "df_Sex_Drug = df.groupby([\"Drug\", \"Sex\"]).size().reset_index(name = \"Count\")\n",
    "\n",
    "plt.figure(figsize = (7,5))\n",
    "sns.barplot(x = \"Drug\", y = \"Count\", hue = \"Sex\", data = df_Sex_Drug)\n",
    "plt.title(\"Sex - Drug\", fontsize=12, fontweight='bold')\n",
    "plt.show()"
   ]
  },
  {
   "cell_type": "markdown",
   "id": "8b61b252",
   "metadata": {},
   "source": [
    "👉 Observation:-\n",
    "\n",
    "Le médicament Y est donné à davantage de patients de sexe féminin.\n",
    "Les médicaments A, B et C ne sont donnés qu'à davantage de patients de sexe masculin.\n",
    "Le médicament X est donné de manière équitable aux patients de sexe masculin et féminin."
   ]
  },
  {
   "cell_type": "markdown",
   "id": "0a6fd178",
   "metadata": {},
   "source": [
    "#### Distribution d'âge en fonction du type de Drug 👴💊"
   ]
  },
  {
   "cell_type": "code",
   "execution_count": 20,
   "id": "c66122a0",
   "metadata": {},
   "outputs": [
    {
     "data": {
      "image/png": "[encoded data removed]",
      "text/plain": [
       "<Figure size 576x432 with 1 Axes>"
      ]
     },
     "metadata": {},
     "output_type": "display_data"
    }
   ],
   "source": [
    "# Analyse des médicaments en fonction de l'âge :\n",
    "\n",
    "plt.figure(figsize = (8,6))\n",
    "sns.swarmplot(x = \"Drug\", y = \"Age\", data = df)\n",
    "plt.legend(df.Drug.value_counts().index)\n",
    "plt.title(\"Age vs Drug\", fontsize=12, fontweight='bold')\n",
    "plt.show()"
   ]
  },
  {
   "cell_type": "markdown",
   "id": "3428e973",
   "metadata": {},
   "source": [
    "👉 Observation :\n",
    "\n",
    "Le médicament A est administré uniquement aux patients âgés de 20 à 50 ans.\n",
    "Le médicament B est administré uniquement aux patients de plus de 50 ans.\n",
    "Le médicament Y, le médicament C et le médicament X peuvent être administrés à tous les groupes d'âge."
   ]
  },
  {
   "cell_type": "markdown",
   "id": "efb86e4e",
   "metadata": {},
   "source": [
    "#### Distribution du ratio Sodium-Potassium en fonction du type de Drug  🧪💊"
   ]
  },
  {
   "cell_type": "code",
   "execution_count": 21,
   "id": "54f6633e",
   "metadata": {},
   "outputs": [
    {
     "data": {
      "image/png": "[encoded data removed]",
      "text/plain": [
       "<Figure size 576x432 with 1 Axes>"
      ]
     },
     "metadata": {},
     "output_type": "display_data"
    }
   ],
   "source": [
    "#Analyse des médicaments en fonction de Na_to_K :\n",
    "\n",
    "plt.figure(figsize = (8,6))\n",
    "sns.swarmplot(x = \"Drug\", y = \"Na_to_K\", data = df)\n",
    "plt.legend(df.Drug.value_counts().index)\n",
    "plt.title(\"Na_to_K vs Drug\", fontsize=12, fontweight='bold')\n",
    "plt.show()"
   ]
  },
  {
   "cell_type": "markdown",
   "id": "2251ae49",
   "metadata": {},
   "source": [
    "👉 Observation :\n",
    "\n",
    "Le médicament Y est administré uniquement aux patients dont le ratio Na_to_K est supérieur à 15.\n",
    "Le médicament C, le médicament X, le médicament A et le médicament B sont administrés aux patients dont le ratio Na_to_K est compris entre 5 et 15."
   ]
  },
  {
   "cell_type": "markdown",
   "id": "8f34606c",
   "metadata": {},
   "source": [
    "#### Distribution de la pression artérielle en fonction du type de Drug 💊🩸"
   ]
  },
  {
   "cell_type": "code",
   "execution_count": 22,
   "id": "dc2c3160",
   "metadata": {},
   "outputs": [
    {
     "data": {
      "image/png": "[encoded data removed]",
      "text/plain": [
       "<Figure size 504x360 with 1 Axes>"
      ]
     },
     "metadata": {},
     "output_type": "display_data"
    }
   ],
   "source": [
    "# Analyse des médicaments en fonction en BP\n",
    "\n",
    "df_Sex_Drug = df.groupby([\"Drug\", \"BP\"]).size().reset_index(name = \"Count\")\n",
    "\n",
    "plt.figure(figsize = (7,5))\n",
    "sns.barplot(x = \"Drug\", y = \"Count\", hue = \"BP\", data = df_Sex_Drug)\n",
    "plt.title(\"BP - Drug\", fontsize=12\n",
    "          , fontweight='bold')\n",
    "plt.legend(loc='upper center')\n",
    "plt.show()\n"
   ]
  },
  {
   "cell_type": "markdown",
   "id": "c3c5f81e",
   "metadata": {},
   "source": [
    "👉 Observation :\n",
    "\n",
    "Le médicament Y est administré à un plus grand nombre de patients ayant une pression artérielle élevée.\n",
    "Le médicament A et le médicament B ne peuvent être administrés qu'aux patients ayant une pression artérielle élevée.\n",
    "Le médicament C est administré uniquement aux patients ayant une pression artérielle basse.\n",
    "Le médicament X est administré à un plus grand nombre de patients ayant une pression artérielle normale."
   ]
  },
  {
   "cell_type": "markdown",
   "id": "94399808",
   "metadata": {},
   "source": [
    "#### Distribution de Cholestérol selon le type de Drug 💊🥛"
   ]
  },
  {
   "cell_type": "code",
   "execution_count": 23,
   "id": "1cd36a4d",
   "metadata": {},
   "outputs": [
    {
     "data": {
      "image/png": "[encoded data removed]",
      "text/plain": [
       "<Figure size 504x360 with 1 Axes>"
      ]
     },
     "metadata": {},
     "output_type": "display_data"
    }
   ],
   "source": [
    "#Analyse des médicaments en fonction du cholestérol :\n",
    "\n",
    "df_Sex_Drug = df.groupby([\"Drug\", \"Cholesterol\"]).size().reset_index(name = \"Count\")\n",
    "\n",
    "plt.figure(figsize = (7,5))\n",
    "sns.barplot(x = \"Drug\", y = \"Count\", hue = \"Cholesterol\", data = df_Sex_Drug)\n",
    "plt.title(\"Cholesterol - Drug\", fontsize=12, fontweight='bold')\n",
    "plt.show()"
   ]
  },
  {
   "cell_type": "markdown",
   "id": "d4447d53",
   "metadata": {},
   "source": [
    "👉 Observation :\n",
    "\n",
    "Le médicament Y et le médicament A sont administrés à un plus grand nombre de patients dont le taux de cholestérol est élevé.\n",
    "Le médicament B peut être administré aux patients dont le taux de cholestérol est élevé ou normal.\n",
    "Le médicament C est administré uniquement aux patients ayant un taux de cholestérol élevé.\n",
    "Le médicament X est administré à un plus grand nombre de patients dont le taux de cholestérol est normal."
   ]
  },
  {
   "cell_type": "markdown",
   "id": "ad940689",
   "metadata": {},
   "source": [
    "#### Répartition du cholestérol selon le sexe 🥛👫"
   ]
  },
  {
   "cell_type": "code",
   "execution_count": 24,
   "id": "a64ad9e3",
   "metadata": {},
   "outputs": [
    {
     "data": {
      "image/png": "[encoded data removed]",
      "text/plain": [
       "<Figure size 648x504 with 1 Axes>"
      ]
     },
     "metadata": {},
     "output_type": "display_data"
    }
   ],
   "source": [
    "#Analyse du cholestérol en fonction du sexe\n",
    "\n",
    "df_Sex_Cholesterol = df.groupby([\"Sex\", \"Cholesterol\"]).size().reset_index(name = \"Count\")\n",
    "\n",
    "plt.figure(figsize = (9,7))\n",
    "sns.barplot(x = \"Sex\", y = \"Count\", hue = \"Cholesterol\", data = df_Sex_Cholesterol)\n",
    "plt.title(\"Sex - Cholesterol\", fontsize=10, fontweight='bold')\n",
    "plt.show()"
   ]
  },
  {
   "cell_type": "markdown",
   "id": "713a05c4",
   "metadata": {},
   "source": [
    "👉 Observation : On observe que les femmes et les hommes souffrent tous deux de niveaux élevés de cholestérol."
   ]
  },
  {
   "cell_type": "markdown",
   "id": "9d682a92",
   "metadata": {},
   "source": [
    "#### Distribution de la pression artérielle en fonction du sexe👫🩸"
   ]
  },
  {
   "cell_type": "code",
   "execution_count": 25,
   "id": "43654d5b",
   "metadata": {},
   "outputs": [
    {
     "data": {
      "image/png": "[encoded data removed]",
      "text/plain": [
       "<Figure size 504x504 with 1 Axes>"
      ]
     },
     "metadata": {},
     "output_type": "display_data"
    }
   ],
   "source": [
    "#Analyse de la tension artérielle (BP) en fonction du sexe\n",
    "\n",
    "df_Sex_BP = df.groupby([\"Sex\", \"BP\"]).size().reset_index(name = \"Count\")\n",
    "\n",
    "plt.figure(figsize = (7,7))\n",
    "sns.barplot(x = \"Sex\", y = \"Count\", hue = \"BP\", data = df_Sex_BP)\n",
    "plt.title(\"Sex - BP\", fontsize=12, fontweight='bold')\n",
    "plt.show()"
   ]
  },
  {
   "cell_type": "markdown",
   "id": "869b8d29",
   "metadata": {},
   "source": [
    "👉 Observation :\n",
    "\n",
    "Les femmes et les hommes souffrent tous deux de niveaux élevés de tension artérielle.\n",
    "Plus d'hommes souffrent d'hypertension artérielle que de femmes.\n",
    "Presque autant d'hommes que de femmes ont une tension artérielle normale."
   ]
  },
  {
   "cell_type": "markdown",
   "id": "4b1be483",
   "metadata": {},
   "source": [
    "#### Distribution du sodium au potassium en fonction du genre et de l'âge🧪👫👴"
   ]
  },
  {
   "cell_type": "code",
   "execution_count": 26,
   "id": "7fdce367",
   "metadata": {},
   "outputs": [
    {
     "data": {
      "image/png": "[encoded data removed]",
      "text/plain": [
       "<Figure size 432x288 with 1 Axes>"
      ]
     },
     "metadata": {},
     "output_type": "display_data"
    }
   ],
   "source": [
    "plt.scatter(x=df.Age[df.Sex=='F'], y=df.Na_to_K[(df.Sex=='F')], c=\"Blue\")\n",
    "plt.scatter(x=df.Age[df.Sex=='M'], y=df.Na_to_K[(df.Sex=='M')], c=\"Orange\")\n",
    "plt.legend([\"Female\", \"Male\"])\n",
    "plt.xlabel(\"Age\")\n",
    "plt.ylabel(\"Na_to_K\")\n",
    "plt.show()"
   ]
  },
  {
   "cell_type": "code",
   "execution_count": 27,
   "id": "d1dfb507",
   "metadata": {},
   "outputs": [
    {
     "data": {
      "image/png": "[encoded data removed]",
      "text/plain": [
       "<Figure size 432x288 with 2 Axes>"
      ]
     },
     "metadata": {},
     "output_type": "display_data"
    }
   ],
   "source": [
    "corr = df.corr()\n",
    "sns.heatmap(corr, cmap=\"coolwarm\", annot=True) # affiche une carte de chaleur pour la corrélation entre les variables\n",
    "plt.show()"
   ]
  },
  {
   "cell_type": "raw",
   "id": "7f026304",
   "metadata": {},
   "source": [
    "👉 Ainsi, toutes les caractéristiques catégorielles sont encodées."
   ]
  },
  {
   "cell_type": "markdown",
   "id": "9395d001",
   "metadata": {},
   "source": [
    "## 3- Préparation du jeu de données ⚙ :"
   ]
  },
  {
   "cell_type": "markdown",
   "id": "d901b395",
   "metadata": {},
   "source": [
    "### 3-2 Encodage des variables catégorielles 🔧 :"
   ]
  },
  {
   "cell_type": "code",
   "execution_count": 28,
   "id": "15449b20",
   "metadata": {},
   "outputs": [],
   "source": [
    "def label_encoder(x):\n",
    "    le = LabelEncoder()\n",
    "    df[x] = le.fit_transform(df[x])\n",
    "\n",
    "lables = ['Sex', 'BP', 'Cholesterol', 'Drug']\n",
    "for i in lables:\n",
    "    label_encoder(i)"
   ]
  },
  {
   "cell_type": "code",
   "execution_count": 29,
   "id": "f5a8799c",
   "metadata": {},
   "outputs": [
    {
     "data": {
      "text/html": [
       "<div>\n",
       "<style scoped>\n",
       "    .dataframe tbody tr th:only-of-type {\n",
       "        vertical-align: middle;\n",
       "    }\n",
       "\n",
       "    .dataframe tbody tr th {\n",
       "        vertical-align: top;\n",
       "    }\n",
       "\n",
       "    .dataframe thead th {\n",
       "        text-align: right;\n",
       "    }\n",
       "</style>\n",
       "<table border=\"1\" class=\"dataframe\">\n",
       "  <thead>\n",
       "    <tr style=\"text-align: right;\">\n",
       "      <th></th>\n",
       "      <th>Age</th>\n",
       "      <th>Sex</th>\n",
       "      <th>BP</th>\n",
       "      <th>Cholesterol</th>\n",
       "      <th>Na_to_K</th>\n",
       "      <th>Drug</th>\n",
       "    </tr>\n",
       "  </thead>\n",
       "  <tbody>\n",
       "    <tr>\n",
       "      <th>0</th>\n",
       "      <td>23</td>\n",
       "      <td>0</td>\n",
       "      <td>0</td>\n",
       "      <td>0</td>\n",
       "      <td>25.355</td>\n",
       "      <td>0</td>\n",
       "    </tr>\n",
       "    <tr>\n",
       "      <th>1</th>\n",
       "      <td>47</td>\n",
       "      <td>1</td>\n",
       "      <td>1</td>\n",
       "      <td>0</td>\n",
       "      <td>13.093</td>\n",
       "      <td>3</td>\n",
       "    </tr>\n",
       "    <tr>\n",
       "      <th>2</th>\n",
       "      <td>47</td>\n",
       "      <td>1</td>\n",
       "      <td>1</td>\n",
       "      <td>0</td>\n",
       "      <td>10.114</td>\n",
       "      <td>3</td>\n",
       "    </tr>\n",
       "    <tr>\n",
       "      <th>3</th>\n",
       "      <td>28</td>\n",
       "      <td>0</td>\n",
       "      <td>2</td>\n",
       "      <td>0</td>\n",
       "      <td>7.798</td>\n",
       "      <td>4</td>\n",
       "    </tr>\n",
       "    <tr>\n",
       "      <th>4</th>\n",
       "      <td>61</td>\n",
       "      <td>0</td>\n",
       "      <td>1</td>\n",
       "      <td>0</td>\n",
       "      <td>18.043</td>\n",
       "      <td>0</td>\n",
       "    </tr>\n",
       "    <tr>\n",
       "      <th>...</th>\n",
       "      <td>...</td>\n",
       "      <td>...</td>\n",
       "      <td>...</td>\n",
       "      <td>...</td>\n",
       "      <td>...</td>\n",
       "      <td>...</td>\n",
       "    </tr>\n",
       "    <tr>\n",
       "      <th>195</th>\n",
       "      <td>56</td>\n",
       "      <td>0</td>\n",
       "      <td>1</td>\n",
       "      <td>0</td>\n",
       "      <td>11.567</td>\n",
       "      <td>3</td>\n",
       "    </tr>\n",
       "    <tr>\n",
       "      <th>196</th>\n",
       "      <td>16</td>\n",
       "      <td>1</td>\n",
       "      <td>1</td>\n",
       "      <td>0</td>\n",
       "      <td>12.006</td>\n",
       "      <td>3</td>\n",
       "    </tr>\n",
       "    <tr>\n",
       "      <th>197</th>\n",
       "      <td>52</td>\n",
       "      <td>1</td>\n",
       "      <td>2</td>\n",
       "      <td>0</td>\n",
       "      <td>9.894</td>\n",
       "      <td>4</td>\n",
       "    </tr>\n",
       "    <tr>\n",
       "      <th>198</th>\n",
       "      <td>23</td>\n",
       "      <td>1</td>\n",
       "      <td>2</td>\n",
       "      <td>1</td>\n",
       "      <td>14.020</td>\n",
       "      <td>4</td>\n",
       "    </tr>\n",
       "    <tr>\n",
       "      <th>199</th>\n",
       "      <td>40</td>\n",
       "      <td>0</td>\n",
       "      <td>1</td>\n",
       "      <td>1</td>\n",
       "      <td>11.349</td>\n",
       "      <td>4</td>\n",
       "    </tr>\n",
       "  </tbody>\n",
       "</table>\n",
       "<p>200 rows × 6 columns</p>\n",
       "</div>"
      ],
      "text/plain": [
       "     Age  Sex  BP  Cholesterol  Na_to_K  Drug\n",
       "0     23    0   0            0   25.355     0\n",
       "1     47    1   1            0   13.093     3\n",
       "2     47    1   1            0   10.114     3\n",
       "3     28    0   2            0    7.798     4\n",
       "4     61    0   1            0   18.043     0\n",
       "..   ...  ...  ..          ...      ...   ...\n",
       "195   56    0   1            0   11.567     3\n",
       "196   16    1   1            0   12.006     3\n",
       "197   52    1   2            0    9.894     4\n",
       "198   23    1   2            1   14.020     4\n",
       "199   40    0   1            1   11.349     4\n",
       "\n",
       "[200 rows x 6 columns]"
      ]
     },
     "execution_count": 29,
     "metadata": {},
     "output_type": "execute_result"
    }
   ],
   "source": [
    "df  # base de données encode"
   ]
  },
  {
   "cell_type": "markdown",
   "id": "330e7f68",
   "metadata": {},
   "source": [
    " ### 3-1 Diviser l'ensemble de données🪓\n",
    "👉 Le jeu de données sera divisé en 70% pour l'entraînement et 30% pour les tests.\n"
   ]
  },
  {
   "cell_type": "code",
   "execution_count": null,
   "id": "8da3aecd",
   "metadata": {},
   "outputs": [],
   "source": [
    "X = df.drop([\"Drug\"], axis = 1)    # independent variable\n",
    "\n",
    "y = df.Drug.values    # dependent variable\n",
    "\n",
    "X_train, X_test, y_train, y_test = train_test_split(X, y,test_size=0.3, random_state=1)\n",
    "\n",
    "print(X_train.shape, X_test.shape, y_train.shape, y_test.shape)"
   ]
  },
  {
   "cell_type": "code",
   "execution_count": 57,
   "id": "f24496b3",
   "metadata": {},
   "outputs": [
    {
     "ename": "ModuleNotFoundError",
     "evalue": "No module named 'imblearn'",
     "output_type": "error",
     "traceback": [
      "\u001b[1;31m---------------------------------------------------------------------------\u001b[0m",
      "\u001b[1;31mModuleNotFoundError\u001b[0m                       Traceback (most recent call last)",
      "Input \u001b[1;32mIn [57]\u001b[0m, in \u001b[0;36m<cell line: 1>\u001b[1;34m()\u001b[0m\n\u001b[1;32m----> 1\u001b[0m \u001b[38;5;28;01mfrom\u001b[39;00m \u001b[38;5;21;01mimblearn\u001b[39;00m\u001b[38;5;21;01m.\u001b[39;00m\u001b[38;5;21;01mover_sampling\u001b[39;00m \u001b[38;5;28;01mimport\u001b[39;00m RandomOverSampler\n\u001b[0;32m      2\u001b[0m \u001b[38;5;66;03m# Appliquer le sur-échantillonnage aléatoire sur l'ensemble d'entraînement\u001b[39;00m\n\u001b[0;32m      3\u001b[0m ros \u001b[38;5;241m=\u001b[39m RandomOverSampler(random_state\u001b[38;5;241m=\u001b[39m\u001b[38;5;241m42\u001b[39m)\n",
      "\u001b[1;31mModuleNotFoundError\u001b[0m: No module named 'imblearn'"
     ]
    }
   ],
   "source": [
    "from imblearn.over_sampling import RandomOverSampler\n",
    "# Appliquer le sur-échantillonnage aléatoire sur l'ensemble d'entraînement\n",
    "ros = RandomOverSampler(random_state=42)\n",
    "X_train_resampled, y_train_resampled = ros.fit_resample(X_train, y_train)\n",
    "\n",
    "# Afficher les statistiques des classes de la variable cible après le sur-échantillonnage\n",
    "print(pd.Series(y_train_resampled).value_counts())\n"
   ]
  },
  {
   "cell_type": "code",
   "execution_count": null,
   "id": "e0ae77bd",
   "metadata": {},
   "outputs": [],
   "source": [
    "X_train.head()"
   ]
  },
  {
   "cell_type": "code",
   "execution_count": null,
   "id": "9e96a4aa",
   "metadata": {},
   "outputs": [],
   "source": [
    "X_test.head()"
   ]
  },
  {
   "cell_type": "markdown",
   "id": "0da11eaa",
   "metadata": {},
   "source": [
    "## 4- Models 🛠 :"
   ]
  },
  {
   "cell_type": "markdown",
   "id": "f38da7b6",
   "metadata": {},
   "source": [
    "### 4-1 L'arbre de décision "
   ]
  },
  {
   "cell_type": "code",
   "execution_count": 32,
   "id": "b22ef3cf",
   "metadata": {},
   "outputs": [],
   "source": [
    "from sklearn import metrics\n",
    "dtc = DecisionTreeClassifier()\n",
    "\n",
    "# Fit the model\n",
    "dtc.fit(X_train, y_train)\n",
    "\n",
    "# Predict the x_test\n",
    "predict = dtc.predict(X_test)\n",
    "\n"
   ]
  },
  {
   "cell_type": "code",
   "execution_count": 33,
   "id": "41dc95ae",
   "metadata": {},
   "outputs": [
    {
     "name": "stdout",
     "output_type": "stream",
     "text": [
      "|--- feature_4 <= 14.84\n",
      "|   |--- feature_2 <= 0.50\n",
      "|   |   |--- feature_0 <= 53.00\n",
      "|   |   |   |--- class: 1\n",
      "|   |   |--- feature_0 >  53.00\n",
      "|   |   |   |--- class: 2\n",
      "|   |--- feature_2 >  0.50\n",
      "|   |   |--- feature_2 <= 1.50\n",
      "|   |   |   |--- feature_3 <= 0.50\n",
      "|   |   |   |   |--- class: 3\n",
      "|   |   |   |--- feature_3 >  0.50\n",
      "|   |   |   |   |--- class: 4\n",
      "|   |   |--- feature_2 >  1.50\n",
      "|   |   |   |--- class: 4\n",
      "|--- feature_4 >  14.84\n",
      "|   |--- class: 0\n",
      "\n"
     ]
    }
   ],
   "source": [
    "from sklearn import tree\n",
    "text_representation = tree.export_text(dtc)\n",
    "print(text_representation)"
   ]
  },
  {
   "cell_type": "code",
   "execution_count": 34,
   "id": "b3bb0e3f",
   "metadata": {},
   "outputs": [
    {
     "data": {
      "image/png": "[encoded data removed]",
      "text/plain": [
       "<Figure size 720x720 with 1 Axes>"
      ]
     },
     "metadata": {},
     "output_type": "display_data"
    }
   ],
   "source": [
    "# Visualiser le graphe\n",
    "plt.figure(figsize = (10,10))\n",
    "dec_tree = plot_tree(decision_tree=dtc , feature_names = df.columns, filled = True , precision = 4, rounded = True)\n"
   ]
  },
  {
   "cell_type": "code",
   "execution_count": 35,
   "id": "366ba43f",
   "metadata": {},
   "outputs": [
    {
     "name": "stdout",
     "output_type": "stream",
     "text": [
      "[[27  0  0  0  0]\n",
      " [ 0  4  0  0  0]\n",
      " [ 0  2  4  0  0]\n",
      " [ 0  0  0  4  0]\n",
      " [ 0  0  0  0 19]]\n",
      "accuracy de larbre de décision .: 96.6667\n"
     ]
    }
   ],
   "source": [
    "#évaluation \n",
    "print(confusion_matrix(y_test,predict))\n",
    "\n",
    "DAcc = accuracy_score(predict,y_test)\n",
    "print('accuracy de l''arbre de décision .: {0:0.4f}'.format(DAcc*100))\n"
   ]
  },
  {
   "cell_type": "code",
   "execution_count": 36,
   "id": "7374ff24",
   "metadata": {},
   "outputs": [
    {
     "data": {
      "text/plain": [
       "DecisionTreeClassifier(max_depth=6, random_state=1)"
      ]
     },
     "execution_count": 36,
     "metadata": {},
     "output_type": "execute_result"
    }
   ],
   "source": [
    "DTC_gini = DecisionTreeClassifier(criterion='gini', max_depth=6, random_state=1)\n",
    "\n",
    "\n",
    "# Entraîner le modèle\n",
    "DTC_gini.fit(X_train, y_train)"
   ]
  },
  {
   "cell_type": "markdown",
   "id": "a02b167e",
   "metadata": {},
   "source": [
    "Ce code crée un objet DecisionTreeClassifier avec un critère de fractionnement 'gini', une profondeur maximale de l'arbre de décision de 3 et un générateur de nombres aléatoires initialisé à 0."
   ]
  },
  {
   "cell_type": "code",
   "execution_count": 37,
   "id": "b6319364",
   "metadata": {},
   "outputs": [],
   "source": [
    "y_pred_gini = DTC_gini.predict(X_test)"
   ]
  },
  {
   "cell_type": "code",
   "execution_count": 38,
   "id": "5a3505ac",
   "metadata": {},
   "outputs": [
    {
     "name": "stdout",
     "output_type": "stream",
     "text": [
      "              precision    recall  f1-score   support\n",
      "\n",
      "           0       1.00      1.00      1.00        27\n",
      "           1       0.67      1.00      0.80         4\n",
      "           2       1.00      0.67      0.80         6\n",
      "           3       1.00      1.00      1.00         4\n",
      "           4       1.00      1.00      1.00        19\n",
      "\n",
      "    accuracy                           0.97        60\n",
      "   macro avg       0.93      0.93      0.92        60\n",
      "weighted avg       0.98      0.97      0.97        60\n",
      "\n",
      "Score de précision du modèle avec l\"indice de critère gini.: 96.6667\n"
     ]
    }
   ],
   "source": [
    "#évaluation \n",
    "print(classification_report(y_test,y_pred_gini))\n",
    "\n",
    "DAGcc = accuracy_score(y_pred_gini,y_test)\n",
    "print('Score de précision du modèle avec l\"indice de critère gini.: {0:0.4f}'.format(DAGcc*100))\n",
    "\n",
    "\n"
   ]
  },
  {
   "cell_type": "code",
   "execution_count": 39,
   "id": "8d00db94",
   "metadata": {},
   "outputs": [
    {
     "data": {
      "text/plain": [
       "DecisionTreeClassifier(criterion='entropy', max_depth=5, random_state=0)"
      ]
     },
     "execution_count": 39,
     "metadata": {},
     "output_type": "execute_result"
    }
   ],
   "source": [
    "# instancier le modèle DecisionTreeClassifier avec le critère entropy\n",
    "DTC_en = DecisionTreeClassifier(criterion='entropy', max_depth=5, random_state=0)\n",
    "\n",
    "\n",
    "# Entraîner le modèle\n",
    "DTC_en.fit(X_train, y_train)"
   ]
  },
  {
   "cell_type": "markdown",
   "id": "a1e9268d",
   "metadata": {},
   "source": [
    " Nous instancions le modèle DecisionTreeClassifier avec le critère 'entropy' et une profondeur maximale de 3"
   ]
  },
  {
   "cell_type": "code",
   "execution_count": 40,
   "id": "1e53361b",
   "metadata": {},
   "outputs": [],
   "source": [
    "y_pred_en = DTC_en.predict(X_test)"
   ]
  },
  {
   "cell_type": "code",
   "execution_count": 41,
   "id": "7b48d22e",
   "metadata": {},
   "outputs": [
    {
     "name": "stdout",
     "output_type": "stream",
     "text": [
      "              precision    recall  f1-score   support\n",
      "\n",
      "           0       1.00      1.00      1.00        27\n",
      "           1       0.67      1.00      0.80         4\n",
      "           2       1.00      0.67      0.80         6\n",
      "           3       1.00      1.00      1.00         4\n",
      "           4       1.00      1.00      1.00        19\n",
      "\n",
      "    accuracy                           0.97        60\n",
      "   macro avg       0.93      0.93      0.92        60\n",
      "weighted avg       0.98      0.97      0.97        60\n",
      "\n",
      "Model accuracy score with criterion entropy:: 96.67%\n"
     ]
    }
   ],
   "source": [
    "#évaluation\n",
    "print(classification_report(y_test,y_pred_en))\n",
    "\n",
    "\n",
    "DAEcc = accuracy_score(y_pred_en,y_test)\n",
    "print('Model accuracy score with criterion entropy:: {:.2f}%'.format(DAEcc*100))\n"
   ]
  },
  {
   "cell_type": "markdown",
   "id": "f83f5c05",
   "metadata": {},
   "source": [
    "### 4-2 forêt aléatoire (Random Forest)"
   ]
  },
  {
   "cell_type": "code",
   "execution_count": 42,
   "id": "0b15f191",
   "metadata": {},
   "outputs": [
    {
     "name": "stdout",
     "output_type": "stream",
     "text": [
      "Train Score: 0.9857142857142858\n",
      "Test Score: 0.95\n"
     ]
    }
   ],
   "source": [
    "# sans ajustement des hyperparamètres\n",
    "\n",
    "clf1 = RandomForestClassifier(random_state=42)\n",
    "accuracies = cross_val_score(clf1, X_train, y_train, cv=5)\n",
    "clf1.fit(X_train, y_train)\n",
    "\n",
    "print(\"Train Score:\", np.mean(accuracies))\n",
    "print(\"Test Score:\", clf1.score(X_test, y_test))"
   ]
  },
  {
   "cell_type": "markdown",
   "id": "52459aa1",
   "metadata": {},
   "source": [
    " un modèle de classification de forêt aléatoire (Random Forest) sans ajuster les hyperparamètres du modèle. Le modèle est entraîné sur les données d'entraînement (X_train et y_train) en utilisant la fonction cross_val_score pour effectuer une validation croisée à 5 plis."
   ]
  },
  {
   "cell_type": "code",
   "execution_count": 43,
   "id": "923317b9",
   "metadata": {},
   "outputs": [
    {
     "data": {
      "text/plain": [
       "array([4, 0, 4, 3, 0, 4, 4, 0, 0, 0, 4, 3, 0, 0, 1, 1, 4, 4, 2, 0, 4, 4,\n",
       "       4, 0, 2, 4, 4, 0, 4, 4, 3, 0, 0, 0, 1, 0, 1, 0, 0, 0, 2, 0, 0, 4,\n",
       "       2, 0, 4, 4, 0, 1, 0, 0, 0, 0, 0, 0, 4, 4, 4, 1])"
      ]
     },
     "execution_count": 43,
     "metadata": {},
     "output_type": "execute_result"
    }
   ],
   "source": [
    "# Predicting values\n",
    "\n",
    "y_pred1 = clf1.predict(X_test)\n",
    "y_pred1"
   ]
  },
  {
   "cell_type": "code",
   "execution_count": 44,
   "id": "0a593dc0",
   "metadata": {},
   "outputs": [
    {
     "name": "stdout",
     "output_type": "stream",
     "text": [
      "              precision    recall  f1-score   support\n",
      "\n",
      "           0       1.00      1.00      1.00        27\n",
      "           1       0.67      1.00      0.80         4\n",
      "           2       1.00      0.67      0.80         6\n",
      "           3       1.00      0.75      0.86         4\n",
      "           4       0.95      1.00      0.97        19\n",
      "\n",
      "    accuracy                           0.95        60\n",
      "   macro avg       0.92      0.88      0.89        60\n",
      "weighted avg       0.96      0.95      0.95        60\n",
      "\n",
      "Random forst accuracy  is: 95.00%\n"
     ]
    }
   ],
   "source": [
    "print(classification_report(y_test, y_pred1))\n",
    "RfAcc1 = accuracy_score(y_pred1,y_test)\n",
    "print('Random forst accuracy  is: {:.2f}%'.format(RfAcc1*100))\n"
   ]
  },
  {
   "cell_type": "code",
   "execution_count": 45,
   "id": "5dc50b2d",
   "metadata": {},
   "outputs": [
    {
     "data": {
      "text/plain": [
       "array([[27,  0,  0,  0,  0],\n",
       "       [ 0,  4,  0,  0,  0],\n",
       "       [ 0,  2,  4,  0,  0],\n",
       "       [ 0,  0,  0,  3,  1],\n",
       "       [ 0,  0,  0,  0, 19]], dtype=int64)"
      ]
     },
     "execution_count": 45,
     "metadata": {},
     "output_type": "execute_result"
    }
   ],
   "source": [
    "cm = confusion_matrix(y_test, y_pred1)\n",
    "cm"
   ]
  },
  {
   "cell_type": "code",
   "execution_count": 46,
   "id": "dc07a8bc",
   "metadata": {},
   "outputs": [
    {
     "name": "stdout",
     "output_type": "stream",
     "text": [
      "Hyperparameters Used: {'criterion': 'gini', 'n_estimators': 34}\n",
      "Train Score: 0.9857142857142858\n",
      "Test Score: 0.9666666666666667\n"
     ]
    }
   ],
   "source": [
    "# utilise la méthode de recherche par grille (GridSearchCV)\n",
    "grid = {'n_estimators': np.arange(1, 100), 'criterion':['gini','entropy']}\n",
    "\n",
    "clf2 = RandomForestClassifier(random_state=42)\n",
    "clf2_cv = GridSearchCV(clf2, grid, cv=5)\n",
    "clf2_cv.fit(X_train, y_train)\n",
    "\n",
    "print(\"Hyperparameters Used:\", clf2_cv.best_params_)\n",
    "print(\"Train Score:\", np.mean(accuracies))\n",
    "print(\"Test Score:\", clf2_cv.score(X_test, y_test))"
   ]
  },
  {
   "cell_type": "markdown",
   "id": "f6dfa822",
   "metadata": {},
   "source": [
    "Ce code utilise la recherche par grille pour ajuster les hyperparamètres du modèle de classification de forêt aléatoire. Les hyperparamètres ajustés sont les nombres d'estimateurs et les critères. Le modèle est entraîné avec les meilleurs paramètres et son score de précision est évalué sur les données de test."
   ]
  },
  {
   "cell_type": "code",
   "execution_count": 47,
   "id": "a6226af6",
   "metadata": {},
   "outputs": [
    {
     "data": {
      "text/plain": [
       "array([4, 0, 4, 3, 0, 4, 4, 0, 0, 0, 4, 3, 0, 0, 1, 1, 4, 4, 2, 0, 4, 4,\n",
       "       4, 0, 2, 4, 4, 0, 4, 4, 3, 0, 0, 0, 1, 0, 1, 0, 0, 0, 2, 0, 0, 4,\n",
       "       2, 0, 4, 4, 0, 2, 0, 0, 0, 0, 0, 0, 4, 4, 4, 1])"
      ]
     },
     "execution_count": 47,
     "metadata": {},
     "output_type": "execute_result"
    }
   ],
   "source": [
    "y_pred2 = clf2_cv.predict(X_test)\n",
    "y_pred2"
   ]
  },
  {
   "cell_type": "code",
   "execution_count": 48,
   "id": "c73ad225",
   "metadata": {},
   "outputs": [
    {
     "name": "stdout",
     "output_type": "stream",
     "text": [
      "              precision    recall  f1-score   support\n",
      "\n",
      "           0       1.00      1.00      1.00        27\n",
      "           1       0.80      1.00      0.89         4\n",
      "           2       1.00      0.83      0.91         6\n",
      "           3       1.00      0.75      0.86         4\n",
      "           4       0.95      1.00      0.97        19\n",
      "\n",
      "    accuracy                           0.97        60\n",
      "   macro avg       0.95      0.92      0.93        60\n",
      "weighted avg       0.97      0.97      0.97        60\n",
      "\n",
      "Random forst accuracy  is: 96.67%\n"
     ]
    }
   ],
   "source": [
    "\n",
    "print(classification_report(y_test, y_pred2))\n",
    "RfAcc2 = accuracy_score(y_pred2,y_test)\n",
    "print('Random forst accuracy  is: {:.2f}%'.format(RfAcc2*100))"
   ]
  },
  {
   "cell_type": "code",
   "execution_count": 49,
   "id": "9f1f0f93",
   "metadata": {},
   "outputs": [
    {
     "data": {
      "text/plain": [
       "array([[27,  0,  0,  0,  0],\n",
       "       [ 0,  4,  0,  0,  0],\n",
       "       [ 0,  2,  4,  0,  0],\n",
       "       [ 0,  0,  0,  3,  1],\n",
       "       [ 0,  0,  0,  0, 19]], dtype=int64)"
      ]
     },
     "execution_count": 49,
     "metadata": {},
     "output_type": "execute_result"
    }
   ],
   "source": [
    "cm = confusion_matrix(y_test, y_pred1)\n",
    "cm"
   ]
  },
  {
   "cell_type": "markdown",
   "id": "a04bb2db",
   "metadata": {},
   "source": [
    "Le classificateur de forêt aléatoire affiche une précision de 100% avec et sans l'ajustement des hyperparamètres."
   ]
  },
  {
   "cell_type": "markdown",
   "id": "55747527",
   "metadata": {},
   "source": [
    "### 4-3 Naive Bayes"
   ]
  },
  {
   "cell_type": "markdown",
   "id": "fca69395",
   "metadata": {},
   "source": [
    " ### Gaussian NB"
   ]
  },
  {
   "cell_type": "code",
   "execution_count": 50,
   "id": "66e7f39c",
   "metadata": {},
   "outputs": [
    {
     "name": "stdout",
     "output_type": "stream",
     "text": [
      "              precision    recall  f1-score   support\n",
      "\n",
      "           0       1.00      0.74      0.85        27\n",
      "           1       0.50      1.00      0.67         4\n",
      "           2       1.00      0.83      0.91         6\n",
      "           3       0.50      1.00      0.67         4\n",
      "           4       1.00      1.00      1.00        19\n",
      "\n",
      "    accuracy                           0.87        60\n",
      "   macro avg       0.80      0.91      0.82        60\n",
      "weighted avg       0.93      0.87      0.88        60\n",
      "\n",
      "[[20  3  0  4  0]\n",
      " [ 0  4  0  0  0]\n",
      " [ 0  1  5  0  0]\n",
      " [ 0  0  0  4  0]\n",
      " [ 0  0  0  0 19]]\n",
      "Gaussian Naive Bayes accuracy is: 86.67%\n"
     ]
    }
   ],
   "source": [
    "\n",
    "NBclassifier2 = GaussianNB()\n",
    "NBclassifier2.fit(X_train, y_train)\n",
    "\n",
    "y_pred = NBclassifier2.predict(X_test)\n",
    "\n",
    "print(classification_report(y_test, y_pred))\n",
    "print(confusion_matrix(y_test, y_pred))\n",
    "\n",
    "from sklearn.metrics import accuracy_score\n",
    "NBAcc2 = accuracy_score(y_pred,y_test)\n",
    "print('Gaussian Naive Bayes accuracy is: {:.2f}%'.format(NBAcc2*100))"
   ]
  },
  {
   "cell_type": "markdown",
   "id": "d2f7c480",
   "metadata": {},
   "source": [
    "### 4 KNN"
   ]
  },
  {
   "cell_type": "code",
   "execution_count": 51,
   "id": "f6620531",
   "metadata": {},
   "outputs": [
    {
     "name": "stdout",
     "output_type": "stream",
     "text": [
      "              precision    recall  f1-score   support\n",
      "\n",
      "           0       0.87      1.00      0.93        27\n",
      "           1       0.29      0.50      0.36         4\n",
      "           2       1.00      0.17      0.29         6\n",
      "           3       0.00      0.00      0.00         4\n",
      "           4       0.56      0.53      0.54        19\n",
      "\n",
      "    accuracy                           0.67        60\n",
      "   macro avg       0.54      0.44      0.42        60\n",
      "weighted avg       0.69      0.67      0.64        60\n",
      "\n",
      "[[27  0  0  0  0]\n",
      " [ 0  2  0  0  2]\n",
      " [ 1  0  1  1  3]\n",
      " [ 1  0  0  0  3]\n",
      " [ 2  5  0  2 10]]\n",
      "K Neighbours accuracy is: 66.67%\n"
     ]
    }
   ],
   "source": [
    "from sklearn.neighbors import KNeighborsClassifier\n",
    "KNclassifier = KNeighborsClassifier(n_neighbors=20)\n",
    "KNclassifier.fit(X_train, y_train)\n",
    "\n",
    "y_pred = KNclassifier.predict(X_test)\n",
    "\n",
    "print(classification_report(y_test, y_pred))\n",
    "print(confusion_matrix(y_test, y_pred))\n",
    "\n",
    "from sklearn.metrics import accuracy_score\n",
    "KNAcc = accuracy_score(y_pred,y_test)\n",
    "print('K Neighbours accuracy is: {:.2f}%'.format(KNAcc*100))"
   ]
  },
  {
   "cell_type": "code",
   "execution_count": 52,
   "id": "0e1fd618",
   "metadata": {},
   "outputs": [
    {
     "data": {
      "image/png": "[encoded data removed]",
      "text/plain": [
       "<Figure size 432x288 with 1 Axes>"
      ]
     },
     "metadata": {},
     "output_type": "display_data"
    },
    {
     "name": "stdout",
     "output_type": "stream",
     "text": [
      "KNN Acc Max 75.00%\n"
     ]
    }
   ],
   "source": [
    "scoreListknn = []\n",
    "for i in range(1,30):\n",
    "    KNclassifier = KNeighborsClassifier(n_neighbors = i)\n",
    "    KNclassifier.fit(X_train, y_train)\n",
    "    scoreListknn.append(KNclassifier.score(X_test, y_test))\n",
    "    \n",
    "plt.plot(range(1,30), scoreListknn)\n",
    "plt.xticks(np.arange(1,30,1))\n",
    "plt.xlabel(\"K value\")\n",
    "plt.ylabel(\"Score\")\n",
    "plt.show()\n",
    "KNAccMax = max(scoreListknn)\n",
    "print(\"KNN Acc Max {:.2f}%\".format(KNAccMax*100))"
   ]
  },
  {
   "cell_type": "markdown",
   "id": "35e09c8f",
   "metadata": {},
   "source": [
    "### 5 Support Vector Machine (SVM)"
   ]
  },
  {
   "cell_type": "code",
   "execution_count": 53,
   "id": "37755428",
   "metadata": {},
   "outputs": [
    {
     "name": "stdout",
     "output_type": "stream",
     "text": [
      "              precision    recall  f1-score   support\n",
      "\n",
      "           0       1.00      1.00      1.00        27\n",
      "           1       0.80      1.00      0.89         4\n",
      "           2       1.00      0.83      0.91         6\n",
      "           3       1.00      1.00      1.00         4\n",
      "           4       1.00      1.00      1.00        19\n",
      "\n",
      "    accuracy                           0.98        60\n",
      "   macro avg       0.96      0.97      0.96        60\n",
      "weighted avg       0.99      0.98      0.98        60\n",
      "\n",
      "[[27  0  0  0  0]\n",
      " [ 0  4  0  0  0]\n",
      " [ 0  1  5  0  0]\n",
      " [ 0  0  0  4  0]\n",
      " [ 0  0  0  0 19]]\n",
      "SVC accuracy is: 98.33%\n"
     ]
    },
    {
     "name": "stderr",
     "output_type": "stream",
     "text": [
      "C:\\Users\\bochr\\anaconda3\\lib\\site-packages\\sklearn\\svm\\_base.py:284: ConvergenceWarning: Solver terminated early (max_iter=251).  Consider pre-processing your data with StandardScaler or MinMaxScaler.\n",
      "  warnings.warn(\n"
     ]
    }
   ],
   "source": [
    "from sklearn.svm import SVC\n",
    "SVCclassifier = SVC(kernel='linear', max_iter=251)\n",
    "SVCclassifier.fit(X_train, y_train)\n",
    "\n",
    "y_pred = SVCclassifier.predict(X_test)\n",
    "\n",
    "print(classification_report(y_test, y_pred))\n",
    "print(confusion_matrix(y_test, y_pred))\n",
    "\n",
    "from sklearn.metrics import accuracy_score\n",
    "SVCAcc = accuracy_score(y_pred,y_test)\n",
    "print('SVC accuracy is: {:.2f}%'.format(SVCAcc*100))"
   ]
  },
  {
   "cell_type": "code",
   "execution_count": 54,
   "id": "a0caaf64",
   "metadata": {},
   "outputs": [
    {
     "data": {
      "image/png": "[encoded data removed]",
      "text/plain": [
       "<Figure size 432x288 with 1 Axes>"
      ]
     },
     "metadata": {},
     "output_type": "display_data"
    }
   ],
   "source": [
    "support_vectors = SVCclassifier.support_vectors_\n",
    "plt.scatter(X.to_numpy()[:, 0], X.to_numpy()[:, 1], c=y, cmap=plt.cm.Paired, edgecolors='k')\n",
    "\n",
    "plt.scatter(support_vectors[:, 0], support_vectors[:, 1], s=80, facecolors='none', edgecolors='k')\n",
    "plt.title('Vecteurs de support')\n",
    "plt.show()"
   ]
  },
  {
   "cell_type": "code",
   "execution_count": 55,
   "id": "a9335410",
   "metadata": {},
   "outputs": [
    {
     "name": "stdout",
     "output_type": "stream",
     "text": [
      "Accuracy: 0.7166666666666667\n"
     ]
    }
   ],
   "source": [
    "# Entraînement du modèle SVM avec noyau gaussien (RBF)\n",
    "svm = SVC(kernel='rbf')\n",
    "svm.fit(X_train, y_train)\n",
    "\n",
    "# Prédiction sur l'ensemble de test\n",
    "y_pred = svm.predict(X_test)\n",
    "\n",
    "# Calcul de l'accuracy\n",
    "accuracy = accuracy_score(y_test, y_pred)\n",
    "print('Accuracy:', accuracy)"
   ]
  },
  {
   "cell_type": "markdown",
   "id": "4a34f745",
   "metadata": {},
   "source": [
    " ## 5-Comparaison des modèles 👀"
   ]
  },
  {
   "cell_type": "code",
   "execution_count": 56,
   "id": "4518c09b",
   "metadata": {},
   "outputs": [
    {
     "data": {
      "text/html": [
       "<div>\n",
       "<style scoped>\n",
       "    .dataframe tbody tr th:only-of-type {\n",
       "        vertical-align: middle;\n",
       "    }\n",
       "\n",
       "    .dataframe tbody tr th {\n",
       "        vertical-align: top;\n",
       "    }\n",
       "\n",
       "    .dataframe thead th {\n",
       "        text-align: right;\n",
       "    }\n",
       "</style>\n",
       "<table border=\"1\" class=\"dataframe\">\n",
       "  <thead>\n",
       "    <tr style=\"text-align: right;\">\n",
       "      <th></th>\n",
       "      <th>Model</th>\n",
       "      <th>Accuracy</th>\n",
       "    </tr>\n",
       "  </thead>\n",
       "  <tbody>\n",
       "    <tr>\n",
       "      <th>7</th>\n",
       "      <td>SVM</td>\n",
       "      <td>98.333333</td>\n",
       "    </tr>\n",
       "    <tr>\n",
       "      <th>0</th>\n",
       "      <td>Decision Tree</td>\n",
       "      <td>96.666667</td>\n",
       "    </tr>\n",
       "    <tr>\n",
       "      <th>1</th>\n",
       "      <td>Decision Tree entropy</td>\n",
       "      <td>96.666667</td>\n",
       "    </tr>\n",
       "    <tr>\n",
       "      <th>2</th>\n",
       "      <td>Decision Tree gini</td>\n",
       "      <td>96.666667</td>\n",
       "    </tr>\n",
       "    <tr>\n",
       "      <th>4</th>\n",
       "      <td>Random Forest Max</td>\n",
       "      <td>96.666667</td>\n",
       "    </tr>\n",
       "    <tr>\n",
       "      <th>3</th>\n",
       "      <td>Random Forest</td>\n",
       "      <td>95.000000</td>\n",
       "    </tr>\n",
       "    <tr>\n",
       "      <th>5</th>\n",
       "      <td>Gaussian NB</td>\n",
       "      <td>86.666667</td>\n",
       "    </tr>\n",
       "    <tr>\n",
       "      <th>6</th>\n",
       "      <td>KNN</td>\n",
       "      <td>75.000000</td>\n",
       "    </tr>\n",
       "  </tbody>\n",
       "</table>\n",
       "</div>"
      ],
      "text/plain": [
       "                   Model   Accuracy\n",
       "7                    SVM  98.333333\n",
       "0          Decision Tree  96.666667\n",
       "1  Decision Tree entropy  96.666667\n",
       "2    Decision Tree gini   96.666667\n",
       "4      Random Forest Max  96.666667\n",
       "3          Random Forest  95.000000\n",
       "5            Gaussian NB  86.666667\n",
       "6                    KNN  75.000000"
      ]
     },
     "execution_count": 56,
     "metadata": {},
     "output_type": "execute_result"
    }
   ],
   "source": [
    "compare = pd.DataFrame({'Model': [ 'Decision Tree','Decision Tree entropy','Decision Tree gini ','Random Forest', 'Random Forest Max', 'Gaussian NB','KNN','SVM' ], \n",
    "                        'Accuracy': [DAcc*100, DAEcc*100, DAGcc*100, RfAcc1*100, RfAcc2*100, NBAcc2*100,KNAccMax*100,SVCAcc*100]})\n",
    "compare.sort_values(by='Accuracy', ascending=False)"
   ]
  },
  {
   "cell_type": "code",
   "execution_count": null,
   "id": "aecbad45",
   "metadata": {},
   "outputs": [],
   "source": []
  },
  {
   "cell_type": "code",
   "execution_count": null,
   "id": "a3a8de7a",
   "metadata": {},
   "outputs": [],
   "source": []
  },
  {
   "cell_type": "code",
   "execution_count": null,
   "id": "dcd08615",
   "metadata": {},
   "outputs": [],
   "source": []
  },
  {
   "cell_type": "code",
   "execution_count": null,
   "id": "e308a10d",
   "metadata": {},
   "outputs": [],
   "source": []
  },
  {
   "cell_type": "code",
   "execution_count": null,
   "id": "f3764171",
   "metadata": {},
   "outputs": [],
   "source": []
  },
  {
   "cell_type": "code",
   "execution_count": null,
   "id": "688dbf23",
   "metadata": {},
   "outputs": [],
   "source": []
  },
  {
   "cell_type": "code",
   "execution_count": null,
   "id": "aa5ad74c",
   "metadata": {},
   "outputs": [],
   "source": []
  },
  {
   "cell_type": "code",
   "execution_count": null,
   "id": "c728a62a",
   "metadata": {},
   "outputs": [],
   "source": []
  }
 ],
 "metadata": {
  "kernelspec": {
   "display_name": "Python 3 (ipykernel)",
   "language": "python",
   "name": "python3"
  },
  "language_info": {
   "codemirror_mode": {
    "name": "ipython",
    "version": 3
   },
   "file_extension": ".py",
   "mimetype": "text/x-python",
   "name": "python",
   "nbconvert_exporter": "python",
   "pygments_lexer": "ipython3",
   "version": "3.9.12"
  }
 },
 "nbformat": 4,
 "nbformat_minor": 5
}
